{
  "nbformat": 4,
  "nbformat_minor": 0,
  "metadata": {
    "colab": {
      "name": "CharRNN.ipynb",
      "version": "0.3.2",
      "provenance": [],
      "collapsed_sections": []
    },
    "kernelspec": {
      "name": "python3",
      "display_name": "Python 3"
    },
    "accelerator": "GPU"
  },
  "cells": [
    {
      "cell_type": "code",
      "metadata": {
        "id": "8IAN4Kb8HeAS",
        "colab_type": "code",
        "colab": {}
      },
      "source": [
        "import os, time\n",
        "from google.colab import files\n",
        "from random import seed, shuffle\n",
        "import torch.nn as nn\n",
        "import torch.nn.functional as F\n",
        "from torch.distributions.multinomial import Multinomial\n",
        "import torch"
      ],
      "execution_count": 0,
      "outputs": []
    },
    {
      "cell_type": "code",
      "metadata": {
        "id": "mqS-ugeAP7Uc",
        "colab_type": "code",
        "colab": {}
      },
      "source": [
        "import pdb"
      ],
      "execution_count": 0,
      "outputs": []
    },
    {
      "cell_type": "markdown",
      "metadata": {
        "id": "3l01L2GRMqaR",
        "colab_type": "text"
      },
      "source": [
        "Make sure to set hardware accelerator to GPU in settings"
      ]
    },
    {
      "cell_type": "code",
      "metadata": {
        "id": "eDhesUAKIGXA",
        "colab_type": "code",
        "outputId": "ff5e12a1-a42c-4b09-9d57-15c0a47a15e6",
        "colab": {
          "resources": {
            "http://localhost:8080/nbextensions/google.colab/files.js": {
              "data": "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",
              "ok": true,
              "headers": [
                [
                  "content-type",
                  "application/javascript"
                ]
              ],
              "status": 200,
              "status_text": ""
            }
          },
          "base_uri": "https://localhost:8080/",
          "height": 71
        }
      },
      "source": [
        "uploaded = files.upload()"
      ],
      "execution_count": 4,
      "outputs": [
        {
          "output_type": "display_data",
          "data": {
            "text/html": [
              "\n",
              "     <input type=\"file\" id=\"files-cbf945f9-105e-41b7-b609-c427d5ad697e\" name=\"files[]\" multiple disabled />\n",
              "     <output id=\"result-cbf945f9-105e-41b7-b609-c427d5ad697e\">\n",
              "      Upload widget is only available when the cell has been executed in the\n",
              "      current browser session. Please rerun this cell to enable.\n",
              "      </output>\n",
              "      <script src=\"/nbextensions/google.colab/files.js\"></script> "
            ],
            "text/plain": [
              "<IPython.core.display.HTML object>"
            ]
          },
          "metadata": {
            "tags": []
          }
        },
        {
          "output_type": "stream",
          "text": [
            "Saving t8.shakespeare.txt to t8.shakespeare.txt\n"
          ],
          "name": "stdout"
        }
      ]
    },
    {
      "cell_type": "code",
      "metadata": {
        "id": "MM3c2LVoHz-f",
        "colab_type": "code",
        "outputId": "f74040ca-fa0f-4fcf-a0bc-6891a654e4a1",
        "colab": {
          "base_uri": "https://localhost:8080/",
          "height": 119
        }
      },
      "source": [
        "!rm -rf scribble-bot && git clone https://github.com/Chatha-Sphere/scribble-bot.git"
      ],
      "execution_count": 5,
      "outputs": [
        {
          "output_type": "stream",
          "text": [
            "Cloning into 'scribble-bot'...\n",
            "remote: Enumerating objects: 75, done.\u001b[K\n",
            "remote: Counting objects: 100% (75/75), done.\u001b[K\n",
            "remote: Compressing objects: 100% (49/49), done.\u001b[K\n",
            "remote: Total 75 (delta 39), reused 62 (delta 26), pack-reused 0\u001b[K\n",
            "Unpacking objects: 100% (75/75), done.\n"
          ],
          "name": "stdout"
        }
      ]
    },
    {
      "cell_type": "code",
      "metadata": {
        "id": "OEgxfI7jdStP",
        "colab_type": "code",
        "colab": {}
      },
      "source": [
        "os.chdir('scribble-bot')"
      ],
      "execution_count": 0,
      "outputs": []
    },
    {
      "cell_type": "code",
      "metadata": {
        "id": "YksvMwu5JPAw",
        "colab_type": "code",
        "colab": {}
      },
      "source": [
        "\n",
        "from corpora import CharEncoder, extract_shakespeare_data\n",
        "from helpers import sample, make_sequences\n",
        "from train import train\n",
        "from model import CharRNN"
      ],
      "execution_count": 0,
      "outputs": []
    },
    {
      "cell_type": "code",
      "metadata": {
        "id": "b4fN7pH4dPtV",
        "colab_type": "code",
        "colab": {}
      },
      "source": [
        "os.chdir('..')"
      ],
      "execution_count": 0,
      "outputs": []
    },
    {
      "cell_type": "code",
      "metadata": {
        "id": "9MLnRlp5Iuyv",
        "colab_type": "code",
        "colab": {}
      },
      "source": [
        "text, corpus = extract_shakespeare_data('t8.shakespeare.txt')\n",
        "char_encoder = CharEncoder(corpus)\n",
        "sequences = make_sequences(text)\n",
        "sequences = char_encoder.label_sequences(sequences)"
      ],
      "execution_count": 0,
      "outputs": []
    },
    {
      "cell_type": "code",
      "metadata": {
        "id": "Z8nHlYusJwhj",
        "colab_type": "code",
        "colab": {}
      },
      "source": [
        "seed(1616)\n",
        "shuffle(sequences)\n",
        "n_training_sequences = int(.9 * len(sequences))\n",
        "training = sequences[:n_training_sequences]\n",
        "validation = sequences[n_training_sequences:]"
      ],
      "execution_count": 0,
      "outputs": []
    },
    {
      "cell_type": "code",
      "metadata": {
        "id": "qxMGMBAZKFBZ",
        "colab_type": "code",
        "colab": {}
      },
      "source": [
        "hidden_size = 256\n",
        "rnn = CharRNN(char_encoder.n_chars, hidden_size, n_rnn_layers=2, dropout = 0.5)"
      ],
      "execution_count": 0,
      "outputs": []
    },
    {
      "cell_type": "code",
      "metadata": {
        "id": "qaToeextLqlO",
        "colab_type": "code",
        "outputId": "14de541f-9551-44a1-d6ff-d919609260ae",
        "colab": {
          "base_uri": "https://localhost:8080/",
          "height": 459
        }
      },
      "source": [
        "train(rnn, training, validation, epochs = 10, lr = 0.01, evaluate_per = 2, batch_size = 50)"
      ],
      "execution_count": 13,
      "outputs": [
        {
          "output_type": "stream",
          "text": [
            "GPU is available\n",
            "epoch: 1/10 | time: 50s\n",
            "training loss: 1.57\n",
            "epoch: 2/10 | time: 50s\n",
            "training loss: 1.45\n",
            "validation loss: 1.39\n",
            "epoch: 3/10 | time: 50s\n",
            "training loss: 1.43\n",
            "epoch: 4/10 | time: 51s\n",
            "training loss: 1.35\n",
            "validation loss: 1.33\n",
            "epoch: 5/10 | time: 52s\n",
            "training loss: 1.41\n",
            "epoch: 6/10 | time: 51s\n",
            "training loss: 1.33\n",
            "validation loss: 1.31\n",
            "epoch: 7/10 | time: 52s\n",
            "training loss: 1.36\n",
            "epoch: 8/10 | time: 52s\n",
            "training loss: 1.33\n",
            "validation loss: 1.30\n",
            "epoch: 9/10 | time: 52s\n",
            "training loss: 1.35\n",
            "epoch: 10/10 | time: 51s\n",
            "training loss: 1.34\n",
            "validation loss: 1.29\n"
          ],
          "name": "stdout"
        }
      ]
    },
    {
      "cell_type": "markdown",
      "metadata": {
        "id": "1vfgPbVM64Nx",
        "colab_type": "text"
      },
      "source": [
        "Generating text off a short primer string"
      ]
    },
    {
      "cell_type": "code",
      "metadata": {
        "id": "MHnb1nzWDFcx",
        "colab_type": "code",
        "colab": {}
      },
      "source": [
        "def sample2(model, encoder, size, prime_str, temperature, topk = None):\n",
        "    \"\"\"\n",
        "    Randomly generate text from a trained model.\n",
        "\n",
        "    Args:\n",
        "        model (nn.module object): trained LSTM neural network\n",
        "        encoder (CharEncoder object): contains character-to-integer mappings\n",
        "        size (int): length of generated sample\n",
        "        prime_str (str): input to initialize the network's hidden state\n",
        "        temperature (float in range (0,1]): dampens the model's character probability distribution:\n",
        "            values less than 1 make the model more conservative, giving additional weight to\n",
        "            high-probability guesses and penalizing low-probability guesses. As temperature goes to\n",
        "            zero, softmax becomes \"argmax,\" and the most probable character is picked almost certainly.\n",
        "\n",
        "    Returns:\n",
        "        output_str (str): Randomly-generated text sample of length (size)\n",
        "    \"\"\"\n",
        "    #deactivate training mode\n",
        "    model.eval()\n",
        "    #initialize output string\n",
        "    output_str = prime_str\n",
        "    #vectorize input string as a sequence of ints\n",
        "    input_sequence = [encoder.char2int[char] for char in prime_str]\n",
        "    #initialize hidden state to None\n",
        "    hx = None\n",
        "    for i in range(size): #generate characters of output string one at a time\n",
        "        #get model output and hidden state (short-term and long-term memory)\n",
        "        out, hx = model([input_sequence], hx)\n",
        "        hx = tuple(h.detach() for h in hx)\n",
        "        #ignore batch dimension because our batch is of size 1\n",
        "        out = out.squeeze()\n",
        "        #calculate log softmax over the possible characters in the corpus.\n",
        "        #resulting log probabilities: more numerical stability for low probabilities,\n",
        "        #\n",
        "        #dist = (F.log_softmax(out/ temperature, dim=-1).data).exp()\n",
        "        probs = F.softmax(out/ temperature, dim=-1).data\n",
        "          \n",
        "        #If probs are generated on a string of multiple characters,\n",
        "        #keep prediction of next character only\n",
        "        if len(probs.shape) > 1:\n",
        "          probs = probs[-1,:]\n",
        "        \n",
        "        if topk is not None:\n",
        "          values, indices = probs.topk(topk)\n",
        "          if torch.cuda.is_available():\n",
        "            zeros = torch.zeros(encoder.n_chars).cuda()\n",
        "          else:\n",
        "            zeros = torch.zeros(encoder.n_chars)\n",
        "          probs =  torch.scatter(zeros, 0, indices, values)  \n",
        "          \n",
        "        next_char_ix = torch.multinomial(probs,1).item()\n",
        "\n",
        "        input_sequence = [next_char_ix]\n",
        "\n",
        "        output_str += encoder.int2char[next_char_ix]\n",
        "\n",
        "    return output_str\n"
      ],
      "execution_count": 0,
      "outputs": []
    },
    {
      "cell_type": "code",
      "metadata": {
        "id": "OOqMBqSqDPLB",
        "colab_type": "code",
        "colab": {
          "base_uri": "https://localhost:8080/",
          "height": 391
        },
        "outputId": "e89573a1-da71-44c2-ab38-50eaaf498e2b"
      },
      "source": [
        "print(sample2(rnn, char_encoder, 1000, prime_str='Ham.', temperature=.85, topk=9))"
      ],
      "execution_count": 87,
      "outputs": [
        {
          "output_type": "stream",
          "text": [
            "Ham.              Exeunt\n",
            "ACT IV.\n",
            "Mayol.\n",
            "    Were you dear'd to cease alone,\n",
            "    So shone our bold of makes a true stars of any hands to be master'd; and take them.\n",
            "     Thou canst thee that is the house of thy soldiers.\n",
            "    And, shall I speak with that. Good master, being thy dear,\n",
            "    As soon thought to see.  \n",
            "    To the grievous cavamies of here had more and a sport.\n",
            "    Well, had mother?\n",
            "    The mind in this will truncied with the heav'nly that we do place your common believing\n",
            "    With the briberching of that special\n",
            "    The best commend; but in such and defant\n",
            "    Which will be death, to be to him.\n",
            "  Cor. I shall not tell me we than when you speak the prisoner.\n",
            "  Cap. What shall I thou hast tell me there was horn\n",
            "    This sins, sweet sight; and you swear in\n",
            "    a better be his sents and thee, of you,\n",
            "    And that the patric of some spition, my leave and heads\n",
            "    That we are talking mistress.\n",
            "  MACBETH. This is my head from the bounteous side wingings my\n",
            "    pow'r to say 'To the man, \n"
          ],
          "name": "stdout"
        }
      ]
    },
    {
      "cell_type": "code",
      "metadata": {
        "id": "zRnHIdzQON-J",
        "colab_type": "code",
        "colab": {
          "base_uri": "https://localhost:8080/",
          "height": 1000
        },
        "outputId": "4d806951-a3a7-46df-eeb3-a162de4473be"
      },
      "source": [
        "for topk in [10, 9, 8]:\n",
        "  print(f\"topk characters: {topk}\")\n",
        "  print(sample2(rnn, char_encoder, 1000, prime_str = \"Ham.\", temperature=.85,\n",
        "               topk = topk))\n",
        "  print('\\n********\\n')"
      ],
      "execution_count": 83,
      "outputs": [
        {
          "output_type": "stream",
          "text": [
            "topk characters: 10\n",
            "Ham.\n",
            "  CASSIUS. Ah, man.\n",
            "    What sewashion is as there is better many a manner.\n",
            "    Thou art well so stalk of their father.\n",
            "  MUTILLUS. Ay, sir?\n",
            "    What says he is?\n",
            "    I do read.\n",
            "  SECOND GENTLEMAN\n",
            "    She calls me have to me not; I mean your masters or disposition must\n",
            "    The foreed, and a game.\n",
            "  MRS. FORD. We have murther, or alt, but the scape,\n",
            "    The house of thy book would have a good day?\n",
            "    The scorn here.                                                          Exit.\n",
            "Scene V.\n",
            "All the star.                                                                   [This banished prisoners\n",
            "  PISANIO. It was this dear as sure\n",
            "    In your beauty to be sometime,\n",
            "    And make me for this dead conception is mad with his\n",
            "    back one answer and so fortune.\n",
            "                                                                                                               Re-enter MESSENGER and BARDOLPH]  In this contrivere is her\n",
            "    strength billows in his hand to the heart of pience,\n",
            "    And so \n",
            "\n",
            "********\n",
            "\n",
            "topk characters: 9\n",
            "Ham.\n",
            "  PORTIA. Must do I-to our bloody,\n",
            "    When he shall bring thy friends-\n",
            "    So banish'd in the most took of appeared will;\n",
            "    And to meet our palents and his hard sense more,  \n",
            "    When I must be so sung and both in their blessed fortune. I had a private countenance:\n",
            "                       So the boughtoping choling of whom thou doth continuated.\n",
            "    The power, I have made me op she could not sive thy child.\n",
            "  MACBETH. Well, I and he that is no more; straight\n",
            "    That with\n",
            "    The winch and whom they speak infriety as\n",
            "    not with the moon, stand being diseased, that we should be taken\n",
            "    I have soon of thine eyes. What may I do you\n",
            "    Where thy safeties have married; here each as so.\n",
            "    If I am a whole farthing with this\n",
            "    court and with a man in the\n",
            "    pain, that might we have no more to the world;\n",
            "    And will you will to the several special foot.\n",
            "    The heart he do by the same of the haste.\n",
            "    We will hear this hands of pity said, the King of\n",
            "    thou with her born and hi\n",
            "\n",
            "********\n",
            "\n",
            "topk characters: 8\n",
            "Ham.\n",
            "  CRESSIDA. This is my father to the more will, and\n",
            "    the back of more sounded beggar,\n",
            "    Save the brother hath not most their conjunction our breast?\n",
            "                             Exeunt\n",
            "ACT I. SCENE 1.\n",
            "Mecedilia. Till your life!\n",
            "    These millowed heirs, and his places,\n",
            "    And did hear him. When your beholding out.\n",
            "                   143\n",
            "  The boy, whose honour be much of the bottle\n",
            "    To do the challenge of a strag.\n",
            "    So mad me that if your beauty will not see the time\n",
            "    A cause to the palm is to this heavy most\n",
            "       The bold as trifle to save your state\n",
            "    With cause, I take a sword within. If he do.\n",
            "    What! ite in the winded two other\n",
            "    tains of began too more fire.\n",
            "  ANTONY. An he do not trouble my followers, by his most bound? I would make me strings was the sight of my father. Then I have seen on me to the carrent\n",
            "    Well do she save thy sorrow but her better to day\n",
            "    And he do be here.\n",
            "  ALBOS. Ay, by my sigh, to see.\n",
            "  CHAMBERLAIN. Say,\n",
            "    I'll make thy tr\n",
            "\n",
            "********\n",
            "\n"
          ],
          "name": "stdout"
        }
      ]
    },
    {
      "cell_type": "code",
      "metadata": {
        "id": "L-5bqSEHH9Qi",
        "colab_type": "code",
        "colab": {
          "base_uri": "https://localhost:8080/",
          "height": 1000
        },
        "outputId": "07adb867-e20b-42b6-a91e-bc7f00b97e56"
      },
      "source": [
        "print(\"Generating off of primer string 'MACBETH.':\")\n",
        "for temp in [0.8, 0.85, .9]:\n",
        "  print(f\"temperature: {temp}\")\n",
        "  print(sample2(rnn, char_encoder, 1000, prime_str='MACBETH.', temperature=temp))\n",
        "  \n",
        "  print(\"\\n********\\n\")"
      ],
      "execution_count": 39,
      "outputs": [
        {
          "output_type": "stream",
          "text": [
            "Generating off of primer string 'MACBETH.':\n",
            "temperature: 0.8\n",
            "MACBETH. Now, my liege, and did with the eyes;\n",
            "    And, and I have please. I say 'Amen, you were this wall!\n",
            "  PAROLLES. We'll follow me, if you were so for admirable\n",
            "    Was speak.\n",
            "  Captain, I have most son Arthur then.\n",
            "    [To TROILUS in my lady to return.\n",
            "  BRUTUS. I do of o'er;  \n",
            "    And yet the common bed when's the sceptres\n",
            "     Which they that did struight to you may have\n",
            "    For dire I do to mother. Thou know'st.\n",
            "  QUEEN MARGARET. Now she was his book; but Henry\n",
            "    The tricks of the considerly praise.                                                                            Exit\n",
            "                                                                          Exit\n",
            "    The KING SENATOR'S heavens. 'Tis presently, let me not fortune\n",
            "    With myself be common stones and noble threats\n",
            "    Where you pass in my birth at their earth,\n",
            "    To your harm;\n",
            "    For such of them to an exile.\n",
            "                                                   [Let it be been a failivity always\n",
            "    to scarce make dispatchfea\n",
            "\n",
            "********\n",
            "\n",
            "temperature: 0.85\n",
            "MACBETH. How, madam, Mistress Way, I stay\n",
            "    doth your instrument make the ireman's wime a thing\n",
            "    To know't.\n",
            "                    They have but the dew;\n",
            "    For I hate you well because so tarry on thy courtesy\n",
            "    That mine own worlding but a rain'd gives by\n",
            "    The disposition of death he is then,\n",
            "    For seek on presently shines to greetas to lend me thee.\n",
            "  THERSITES. Sir, I was touch'd with his respect.\n",
            "  WINCHESTER. Was none talked further, mark him to the army\n",
            "    And virtuously cut the moon be the two three\n",
            "    Lasting which shall be the brother.\n",
            "    The reasonors! Grave this cause!\n",
            "    Half well so encounterf under this worst present;\n",
            "    To the true feet of my great feast.\n",
            "  TIMON. What, as I say 'That I than they say I sent\n",
            "    Which the stabbery flattery to prospect and a jag'd\n",
            "    much too too.                                            Exeunt WISCEIUS, his ten root,\n",
            "    A next garments in mine own man.\n",
            "  Claud. My lords, they slains not Princess\n",
            "    Than him. But why mistress, \n",
            "\n",
            "********\n",
            "\n",
            "temperature: 0.9\n",
            "MACBETH. Master Follow, I have done:  \n",
            "    Hath keep your death, if this makes wars shall set her. He's\n",
            "   HIZIA. Hast thou wrong. By yours, as it touching the sting\n",
            "    And weep to be thine own fellow-heaven,\n",
            "     To meet our power no other thus thy human,\n",
            "    Than I may be alarum with senses.\n",
            "  DUKE. Then shall I do a gold to you,\n",
            "  Of fear? Call yourself of all the\n",
            "    discretrial tongue is found well shows.\n",
            "  STEPHANO. Bedieve, faint.\n",
            "    My lord, that is the worship's scetted things to hear my\n",
            "    Latio; and bound that be fairy\n",
            "    hither offending all me there's a small like the King\n",
            "    That mistress the Cercia thee breast to beat him;\n",
            "    And yet with the seatt have so of my minds.\n",
            "    Most well!\n",
            "  Fool. Even steal, and for the bord.        [Hear the confession says\n",
            "    that this doth church them from heavens\n",
            "    Before the sight of the tending shame of misines.\n",
            "  SERVANT. You hear thee to cold their\n",
            "    guaith stand in earth.\n",
            "  IAGO. And yet methought they shall say thou dost be ere r\n",
            "\n",
            "********\n",
            "\n"
          ],
          "name": "stdout"
        }
      ]
    },
    {
      "cell_type": "code",
      "metadata": {
        "id": "RxkWBqIx3u7Y",
        "colab_type": "code",
        "colab": {
          "base_uri": "https://localhost:8080/",
          "height": 1000
        },
        "outputId": "78e7aea4-420f-440a-e6b6-a0e3cd1ca41b"
      },
      "source": [
        "print(\"Generating off of primer string 'MACBETH.':\")\n",
        "for temp in [0.8, 0.85, .9]:\n",
        "  print(f\"temperature: {temp}\")\n",
        "  print(sample(rnn, char_encoder, 1000, prime_str='MACBETH.', temperature=temp))\n",
        "  \n",
        "  print(\"\\n********\\n\")"
      ],
      "execution_count": 18,
      "outputs": [
        {
          "output_type": "stream",
          "text": [
            "Generating off of primer string 'MACBETH.':\n",
            "temperature: 0.8\n",
            "MACBETH. Instince he sleep- whether, or bear him to York. Will you follow\n",
            "    That I to mercy were I the soldier to enery.\n",
            "  WILLIAM. The travell of senses and other, here.\n",
            "  Hot. Stay to the way; but, nor he is his bows.\n",
            "    What was the youth be the duty of a honest fall\n",
            "    That I mean to our bride and man. Here comes the pleasure, sir;\n",
            "    By the Lord Savera, curse, and I will be all thy sweet word.\n",
            "    Let me see them between my sorrows of Cassio.\n",
            "  FIRST CITIZEN. A-money, as sure would see it.\n",
            "                                                   Exeunt Gloucester.\n",
            "  POSTHUMUS. Whither Edward  \n",
            "    Will pleas'd him so the thing since I know with piece\n",
            "    Of the body near meet you to bohe things in the\n",
            "    business with thy strain, reasoning to this time\n",
            "    To put your bloody friar and all the Greeter,\n",
            "    from fines of eyes.\n",
            "    I'll fain to please your virtuous time do dewicked.\n",
            "  GRUMIO. And what is here redeem, marry, sir;\n",
            "    But thou tanoral hap and but more.\n",
            "    Wherein he say 'bid \n",
            "\n",
            "********\n",
            "\n",
            "temperature: 0.85\n",
            "MACBETH. Peace, sir, you might their too.\n",
            "  LODOVICO. Good lady very good sword, good IT. Speak content; and for a dislike at the husband.  \n",
            "    You do now is it in most strange foul way:\n",
            "    For I say.\n",
            "  Ham. What, did I do yourself to wear thee, and\n",
            "    you banish'd fall,\n",
            "    To the hand of another day; and every many sent 'As a divirite.\n",
            "    Now they have wounded by his matter,\n",
            "    But lords,                                   Exit\n",
            "         Therefore take him\n",
            "    Sweet rich prayes of the duch play thee.\n",
            "  OTHELLO. Alas, will me?\n",
            "    If you have river for their woe.                   [Abject]\n",
            "  Prince. P of the stay of himself.\n",
            "    I do become her a shape as the gives with wants and sighs.\n",
            "  LUCENTIO. As, in this sail, here, but bid you know their minds. Get her for ours.\n",
            "    Come, what that's this he is thy making without death's fairy first\n",
            "    Reads to steal                                           Exit\n",
            "  FARSTAND. I cover with his mistress there is my soul\n",
            "    As if I can I with no more \n",
            "\n",
            "********\n",
            "\n",
            "temperature: 0.9\n",
            "MACBETH. Now I prithee will people in my mother did found\n",
            "    Herefore reason; and some own fellows of home;\n",
            "    Being it most cause on a man he\n",
            "    will have find with the heavenly patience.\n",
            "  CASCA. Where they needs was in down,\n",
            "  Mine own spirit for the joy on the vapitative;  \n",
            "    A royal Copitas' too labour\n",
            "    What gentleman! his ears,\n",
            "    So daven.\n",
            "  ROSALIND. What would I have some shame heavy doth still lend for fool of God's fire that were you found to so dear;\n",
            "    And so banament my body as a soul,\n",
            "  The gentleman,  \n",
            "    And they cannot we'll make our wars, sir.\n",
            "    But Am fair, had make me to the cup,\n",
            "    You are tet the world in his better bark-spur\n",
            "    Which between thempesters.\n",
            "    It is and laughter more accuses.\n",
            "    God be dead, Majesty, yet dead. Shall I make thee wild\n",
            "    Combat about myself.\n",
            "  CAESAR. Ay, or beauty of word;\n",
            "    Then he's follow'd and fair liberted.\n",
            "  TRANIO. Out of you, to her heart,\n",
            "  In noghought, that I prove the heirs.\n",
            "  KING HENRY. Nay, sir, I am show \n",
            "\n",
            "********\n",
            "\n"
          ],
          "name": "stdout"
        }
      ]
    },
    {
      "cell_type": "markdown",
      "metadata": {
        "id": "evWOKraQ670s",
        "colab_type": "text"
      },
      "source": [
        "Generating text off a long primer string"
      ]
    },
    {
      "cell_type": "code",
      "metadata": {
        "id": "k2jCb_eL69-1",
        "colab_type": "code",
        "colab": {
          "base_uri": "https://localhost:8080/",
          "height": 1000
        },
        "outputId": "b1d2477f-f3c9-4002-9cfc-71af1595deab"
      },
      "source": [
        "print(\"Generating off a longer primer string:\")\n",
        "#long_prime = \"Pol. [aside] Though this be madness, yet there is a method in't.-\\nWill You walk out of the air, my lord?\"\n",
        "long_prime = \"Pol. [aside] Though this be madness, yet there is a method in't.\"\n",
        "for temp in [0.83, 0.85, .88]:\n",
        "  print(f\"temperature: {temp}\")\n",
        "  print(sample(rnn, char_encoder, 1000, prime_str=long_prime, temperature=temp))\n",
        "  \n",
        "  print(\"\\n********\\n\")"
      ],
      "execution_count": 21,
      "outputs": [
        {
          "output_type": "stream",
          "text": [
            "Generating off a longer primer string:\n",
            "temperature: 0.83\n",
            "Pol. [aside] Though this be madness, yet there is a method in't.\n",
            "  KATHERINA. If you line to thy power, he comes stand a- did we have\n",
            "    I'll forgive your pains understand in shadows\n",
            "    Was satisfied not of battle that would to his desire\n",
            "    And will be liver to the Majesty; and the King's\n",
            "    honour; kunder with a beauty too fear'd\n",
            "    Something but I think to this good worthiest king at good jewers bewiths, which they are to you the holy streets\n",
            "    To make in, and Tholasture!\n",
            "  PRINCESS OF FRADCEMANT. Where were you so? This is he, laughous'd forth 'Castle.\n",
            "    What begins indeed, thus.\n",
            "  SECOND LORD. They every villain of the fight.\n",
            "  Ham. That's the meaun was the King by the Duke of Gloucester's fall he\n",
            "    say                                          \"\n",
            "  LORENZO\n",
            "  OTHELLO. There is on some faint means in his best,\n",
            "    That she dies to-stol'n thy youngly by the gods,\n",
            "    The leaves that saying bury and your Romeo.\n",
            "  KING RICHARD. It is in which this conscience that indeed meet,\n",
            "    For I'll swear i' twe make this one his bow with out.\n",
            "    T\n",
            "\n",
            "********\n",
            "\n",
            "temperature: 0.85\n",
            "Pol. [aside] Though this be madness, yet there is a method in't.\n",
            "  KING RICHARD. What prick, that kill'd thee\n",
            "    Out of his face was prevailalation.\n",
            "    Good gentleman, what my lord, I will see thee blots\n",
            "    HG        Enter BALTRAR, ENUBB\n",
            "  GLOUCESTER. Well, love, my soul,\n",
            "    So welcome, I'll be my tent by the town\n",
            "    Than would be bring in strew.\n",
            "    My wit; he is forwick and not one possible is barted\n",
            "    To war misable to the\n",
            "    botter\n",
            "    To their man's camps, being of wam, the divides\n",
            "    When or to death must, my lord,\n",
            "    To hear mortal mouth, though that celd to have between you varument. The parks that I stay.\n",
            "  PANDARUS. What, dost thou take it of,\n",
            "    Unwhenciloum and wilt intedly out of their hour.\n",
            "  BASTARD. What now, and to stood with war-\n",
            "    We will be satisfied.\n",
            "  MACBETH. Good life, you to thyself.\n",
            "    Here's a noblemaster, I beat mine.\n",
            "  TALBOT. 'Tis as soundy each office.  \n",
            "  Bene. Your master made the King. Heat Greef the world's;\n",
            "    I sound for a best; thou hast a little fair saved \n",
            "    ob the great beat be sad liberty!\n",
            "\n",
            "\n",
            "********\n",
            "\n",
            "temperature: 0.88\n",
            "Pol. [aside] Though this be madness, yet there is a method in't.\n",
            "               Re-enter a SERVANT\n",
            "  MITH. True, sir, would with his praise, weeps and keepers his commend\n",
            "    To it of Forespee, or his conterving\n",
            "    The letter to morning, blows,\n",
            "    Have not let the great death, Come to the Muse,\n",
            "    the good son to defend him enough, and\n",
            "    they cast'd his sword of this.                    Exeunt\n",
            "SCENE VII.\n",
            "The bout addited\n",
            "  LADY MACDUFF\n",
            "  FALSTAFF. Nay, well.                   [SHYLOCK, and all.\n",
            "    If are the wise.\n",
            "  Fal. Why, so, for it was his pounds; make the\n",
            "    and was none.\n",
            "  PRINCESS OF ARCESHAL. Scarcely?\n",
            "  MIRANDA. A varvaly both, and he?\n",
            "  GLOUCESTER. No, come, touch these bastards, wherein let the commander,\n",
            "    To you know the fairy soldier,\n",
            "    Deservely many smock to ends a\n",
            "    common esteem; and that put to be drawn my virtue from Hold bid you he should mode this passe, being.\n",
            "    Are you all in his very seeking frardor good wash'd with me\n",
            "    That that we live fain must deny, and had not yielded with the good\n",
            "    fatal, by this\n",
            "\n",
            "********\n",
            "\n"
          ],
          "name": "stdout"
        }
      ]
    },
    {
      "cell_type": "code",
      "metadata": {
        "id": "VrYxihleVGcP",
        "colab_type": "code",
        "outputId": "d74bcc4f-fdb8-4e92-9772-eea34581f0a8",
        "colab": {
          "base_uri": "https://localhost:8080/",
          "height": 374
        }
      },
      "source": [
        "print(sample(rnn, char_encoder, 1000, prime_str='HAMLET.', temperature=.8))"
      ],
      "execution_count": 14,
      "outputs": [
        {
          "output_type": "stream",
          "text": [
            "HAMLET. A ront was even to so to me.\n",
            "  GLOUCESTER. What mamone, almost so tell my shore, my daughter?\n",
            "     In my gold to her with ears; the gods,\n",
            "    Whose ground, and so how he shall say sweet monk.\n",
            "  MENENIUS. Was not you will can decreee,\n",
            "    But that has too grown. So wear yourself, to his wit,\n",
            "    This second's hand; you are the letter.\n",
            "    They live the treason for mother, or he speaks\n",
            "    With lost of first soon of burd'ny faith,\n",
            "    To make me brave their counsel.\n",
            "    Would One manner before his wit\n",
            "    Than you have honour and make a question;\n",
            "    A midness. What stack you her brother, and my love to me.\n",
            "    A song; then by your willing to some el them have been but signify\n",
            "    He was had such enemy.\n",
            "    But I live into a tumn'd a fives to the manar hour. Why, find the country of Page,\n",
            "    Who shall be bare what    And thou wilt have the do fight\n",
            "    And for thine own cankerling world.\n",
            "    Is he been of the blessing of duty,\n",
            "    And so the remembrance of breath.\n",
            "    The Capilial, cap\n"
          ],
          "name": "stdout"
        }
      ]
    },
    {
      "cell_type": "code",
      "metadata": {
        "id": "8hBvcQTNIApX",
        "colab_type": "code",
        "outputId": "4f193e7c-ac71-4a27-b30f-fc0355d98b97",
        "colab": {
          "base_uri": "https://localhost:8080/",
          "height": 326
        }
      },
      "source": [
        "print(sample(rnn, encoder=char_encoder, size=1000, prime=\"IAGO.\"))"
      ],
      "execution_count": 0,
      "outputs": [
        {
          "output_type": "stream",
          "text": [
            "IAGO. The gentlemen lie up my like the case.\n",
            "    And she crust to kill him to kish  the anger\n",
            "    her company, course, to him; but this nest;\n",
            "    And when I met you here haste with him.\n",
            "  MALVOLIO. Here we muke the liver beholds all; but the shadows; and my brother Henryes.\n",
            "  THIRD SERVANT. And what then there?\n",
            "    Will you not know your speech in Eesuafiches?\n",
            "  Ham. How is it her hear so say                                                   Enter Member's tongues on\n",
            "    Under or with when they does alone a life,\n",
            "    But no bold another, the Edward go to\n",
            "                                                                                      Exeunt BASTARD. At, send the reason and sleeps meats of her, and the word besin but I say\n",
            "    Than the crunds in man's sister.\n",
            "  CLAUDIO. Our expeding, I will sent us of your satisful sin,\n",
            "    Is the into his black of Clarence' down\n",
            "    me, and wearing all worse is heavile with her.\n",
            "  CARDINAL. What all the world, so stay?\n",
            "  DEMETRITA. Speak is away in nd o\n"
          ],
          "name": "stdout"
        }
      ]
    },
    {
      "cell_type": "code",
      "metadata": {
        "id": "XsjtunFFogv1",
        "colab_type": "code",
        "outputId": "04ac0c68-b5f8-487a-d70a-8eab123b381b",
        "colab": {
          "base_uri": "https://localhost:8080/",
          "height": 170
        }
      },
      "source": [
        "#temperature = 0.8\n",
        "print(sample(rnn, encoder=char_encoder, size=600, prime=\"IAGO.\"))"
      ],
      "execution_count": 0,
      "outputs": [
        {
          "output_type": "stream",
          "text": [
            "IAGO. Even the sins. She breaks her homes down me, for their pains\n",
            "    Of a money die a beg- as I had washes deliver'd of labour\n",
            "    shame to the times in these treasurghs with them of my business.  \n",
            "                                                     Enter DUKE OF Engeen in the death.]\n",
            "  PROSPERO. If I see the state!- Do you like some decked samprise,\n",
            "    When it was by the prince blenty like and buttest\n",
            "    Make no cause thou neither,\n",
            "   Against them to you, and by his countrymen.\n",
            "                                                                                                                     \n"
          ],
          "name": "stdout"
        }
      ]
    },
    {
      "cell_type": "code",
      "metadata": {
        "id": "kfSLt9AnRFJZ",
        "colab_type": "code",
        "colab": {}
      },
      "source": [
        ""
      ],
      "execution_count": 0,
      "outputs": []
    }
  ]
}