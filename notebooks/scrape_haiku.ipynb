{
 "cells": [
  {
   "cell_type": "code",
   "execution_count": 1,
   "metadata": {},
   "outputs": [],
   "source": [
    "from html.parser import HTMLParser\n",
    "import string"
   ]
  },
  {
   "cell_type": "code",
   "execution_count": 3,
   "metadata": {},
   "outputs": [],
   "source": [
    "with open(\"../data/issa.htm\") as f:\n",
    "    html = f.read()"
   ]
  },
  {
   "cell_type": "code",
   "execution_count": 43,
   "metadata": {},
   "outputs": [],
   "source": [
    "class HaikuParser(HTMLParser):\n",
    "    \n",
    "    def __init__(self):\n",
    "        HTMLParser.__init__(self)\n",
    "        self.data = []\n",
    "        self.recording = 0\n",
    "        self.haiku_count = 0\n",
    "        \n",
    "    def handle_starttag(self, tag, attrs):\n",
    "        if tag != 'p':\n",
    "            return\n",
    "        if self.recording:\n",
    "            self.recording += 1\n",
    "            return\n",
    "        for name, value in attrs:\n",
    "            if name == \"class\" and value == \"english\":\n",
    "                break\n",
    "        else:\n",
    "            return\n",
    "        self.recording = 1\n",
    "        self.haiku_count += 1\n",
    "                \n",
    "    def handle_endtag(self, tag):\n",
    "        if tag == \"p\" and self.recording:\n",
    "            self.recording -= 1\n",
    "    \n",
    "    def handle_data(self, data):\n",
    "        if self.recording:\n",
    "            self.data.append(data)"
   ]
  },
  {
   "cell_type": "code",
   "execution_count": 53,
   "metadata": {},
   "outputs": [],
   "source": [
    "parser = HaikuParser()"
   ]
  },
  {
   "cell_type": "code",
   "execution_count": 54,
   "metadata": {},
   "outputs": [],
   "source": [
    "parser.feed(html)"
   ]
  },
  {
   "cell_type": "code",
   "execution_count": 55,
   "metadata": {},
   "outputs": [
    {
     "data": {
      "text/plain": [
       "10000"
      ]
     },
     "execution_count": 55,
     "metadata": {},
     "output_type": "execute_result"
    }
   ],
   "source": [
    "parser.haiku_count"
   ]
  },
  {
   "cell_type": "code",
   "execution_count": 92,
   "metadata": {},
   "outputs": [],
   "source": [
    "cleaned = []\n",
    "temp = \"\"\n",
    "for l in parser.data:\n",
    "    if l[0] == \" \":\n",
    "        if temp != \"\":\n",
    "            cleaned.append(temp)\n",
    "        temp = l\n",
    "    elif l[0] == \"\\n\":\n",
    "        temp += l"
   ]
  },
  {
   "cell_type": "code",
   "execution_count": 93,
   "metadata": {},
   "outputs": [],
   "source": [
    "cleaned = [c.replace(\"\\n\", \" \") for c in cleaned]"
   ]
  },
  {
   "cell_type": "code",
   "execution_count": 94,
   "metadata": {},
   "outputs": [],
   "source": [
    "table = str.maketrans('', '', string.punctuation)"
   ]
  },
  {
   "cell_type": "code",
   "execution_count": 102,
   "metadata": {},
   "outputs": [
    {
     "data": {
      "text/plain": [
       "' everything has burned even the blameless mosquitoes'"
      ]
     },
     "execution_count": 102,
     "metadata": {},
     "output_type": "execute_result"
    }
   ],
   "source": [
    "cleaned[2000]"
   ]
  },
  {
   "cell_type": "code",
   "execution_count": 112,
   "metadata": {},
   "outputs": [],
   "source": [
    "corpus = []\n",
    "for haiku in cleaned:\n",
    "    haiku_words = haiku[1:].split(\" \")\n",
    "    haiku_words = [w.translate(table).lower() for w in haiku_words]\n",
    "    corpus.append(haiku_words)"
   ]
  },
  {
   "cell_type": "code",
   "execution_count": 113,
   "metadata": {},
   "outputs": [
    {
     "data": {
      "text/plain": [
       "10000"
      ]
     },
     "execution_count": 113,
     "metadata": {},
     "output_type": "execute_result"
    }
   ],
   "source": [
    "len(corpus)"
   ]
  }
 ],
 "metadata": {
  "kernelspec": {
   "display_name": "Python 3",
   "language": "python",
   "name": "python3"
  },
  "language_info": {
   "codemirror_mode": {
    "name": "ipython",
    "version": 3
   },
   "file_extension": ".py",
   "mimetype": "text/x-python",
   "name": "python",
   "nbconvert_exporter": "python",
   "pygments_lexer": "ipython3",
   "version": "3.7.3"
  }
 },
 "nbformat": 4,
 "nbformat_minor": 2
}
