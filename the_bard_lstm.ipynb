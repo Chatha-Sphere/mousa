{
 "cells": [
  {
   "cell_type": "code",
   "execution_count": 119,
   "metadata": {},
   "outputs": [],
   "source": [
    "import numpy as np\n",
    "import torch\n",
    "import sys\n",
    "from helpers import one_hot, prepare_batches\n",
    "from random import seed, shuffle\n",
    "import torch.nn as nn\n",
    "from torch.nn.utils.rnn import pad_packed_sequence\n",
    "\n",
    "from importlib import reload\n",
    "import helpers\n",
    "reload(helpers)"
   ]
  },
  {
   "cell_type": "markdown",
   "metadata": {},
   "source": [
    "#### Data Extraction"
   ]
  },
  {
   "cell_type": "code",
   "execution_count": 23,
   "metadata": {},
   "outputs": [],
   "source": [
    "with open('data/t8.shakespeare.txt') as f:\n",
    "    text = f.read()"
   ]
  },
  {
   "cell_type": "code",
   "execution_count": 43,
   "metadata": {},
   "outputs": [],
   "source": [
    "shakespeare = []\n",
    "#start after the header\n",
    "skip = False\n",
    "for line in text.split(\"\\n\")[244:]:\n",
    "    if line[:2] == \"<<\":\n",
    "        skip = True\n",
    "    elif line[-2:] == \">>\":\n",
    "        skip = False\n",
    "    if skip or line == \"\":\n",
    "        continue\n",
    "    shakespeare.append(line)"
   ]
  },
  {
   "cell_type": "code",
   "execution_count": 45,
   "metadata": {},
   "outputs": [
    {
     "data": {
      "text/plain": [
       "113282"
      ]
     },
     "execution_count": 45,
     "metadata": {},
     "output_type": "execute_result"
    }
   ],
   "source": [
    "len(shakespeare)"
   ]
  },
  {
   "cell_type": "code",
   "execution_count": 48,
   "metadata": {},
   "outputs": [
    {
     "data": {
      "text/plain": [
       "927568"
      ]
     },
     "execution_count": 48,
     "metadata": {},
     "output_type": "execute_result"
    }
   ],
   "source": [
    "sys.getsizeof(shakespeare)"
   ]
  },
  {
   "cell_type": "markdown",
   "metadata": {},
   "source": [
    "#### Data Preprocessing"
   ]
  },
  {
   "cell_type": "code",
   "execution_count": 49,
   "metadata": {},
   "outputs": [],
   "source": [
    "flatten = lambda l: [item for sublist in l for item in sublist]\n",
    "flattened = flatten(shakespeare)"
   ]
  },
  {
   "cell_type": "code",
   "execution_count": 62,
   "metadata": {},
   "outputs": [],
   "source": [
    "chars = tuple(set(flattened))\n",
    "int2char = dict(enumerate(chars))\n",
    "char2int = {value: key for key, value in int2char.items()}"
   ]
  },
  {
   "cell_type": "code",
   "execution_count": 142,
   "metadata": {},
   "outputs": [
    {
     "data": {
      "text/plain": [
       "83"
      ]
     },
     "execution_count": 142,
     "metadata": {},
     "output_type": "execute_result"
    }
   ],
   "source": [
    "len(chars)"
   ]
  },
  {
   "cell_type": "code",
   "execution_count": 88,
   "metadata": {},
   "outputs": [
    {
     "data": {
      "text/plain": [
       "69"
      ]
     },
     "execution_count": 88,
     "metadata": {},
     "output_type": "execute_result"
    }
   ],
   "source": [
    "#roughly 90% of sequences are shorter than 70 characters, so we'll make the max sequence length 70.\n",
    "sorted([len(l) for l in shakespeare], reverse=True)[1100]"
   ]
  },
  {
   "cell_type": "code",
   "execution_count": 91,
   "metadata": {},
   "outputs": [
    {
     "data": {
      "text/plain": [
       "39"
      ]
     },
     "execution_count": 91,
     "metadata": {},
     "output_type": "execute_result"
    }
   ],
   "source": [
    "#90 % are longer than 39 characters... maybe we should have a shortest length too?\n",
    "[len(l) for l in shakespeare][1100]"
   ]
  },
  {
   "cell_type": "code",
   "execution_count": 89,
   "metadata": {},
   "outputs": [],
   "source": [
    "#simple character to number encoding\n",
    "#truncate sequences longer than 70\n",
    "numeric_sequences = [[char2int[char] for char in line][:70] for line in shakespeare]"
   ]
  },
  {
   "cell_type": "code",
   "execution_count": 106,
   "metadata": {},
   "outputs": [],
   "source": [
    "seed(1609)\n",
    "#randomly shuffle the sequences\n",
    "shuffle(numeric_sequences)"
   ]
  },
  {
   "cell_type": "markdown",
   "metadata": {},
   "source": [
    "#### Split into Training and Validation Sets"
   ]
  },
  {
   "cell_type": "code",
   "execution_count": 111,
   "metadata": {},
   "outputs": [],
   "source": [
    "#90 - 10 training / validation split\n",
    "n_training_sequences = int(.9 * len(numeric_sequences))\n",
    "training = numeric_sequences[:n_training_sequences]\n",
    "validation = numeric_sequences[n_training_sequences:]"
   ]
  },
  {
   "cell_type": "code",
   "execution_count": 110,
   "metadata": {},
   "outputs": [
    {
     "data": {
      "text/plain": [
       "(11329, 101953)"
      ]
     },
     "execution_count": 110,
     "metadata": {},
     "output_type": "execute_result"
    }
   ],
   "source": [
    "len(validation), len(training)"
   ]
  },
  {
   "cell_type": "code",
   "execution_count": 113,
   "metadata": {},
   "outputs": [],
   "source": [
    "training_input = [sequence[:-1] for sequence in training]\n",
    "training_target = [sequence[1:] for sequence in training]"
   ]
  },
  {
   "cell_type": "code",
   "execution_count": 291,
   "metadata": {},
   "outputs": [
    {
     "data": {
      "text/plain": [
       "<module 'helpers' from '/Users/nikku/projects/vates/helpers.py'>"
      ]
     },
     "execution_count": 291,
     "metadata": {},
     "output_type": "execute_result"
    }
   ],
   "source": [
    "reload(helpers)"
   ]
  },
  {
   "cell_type": "code",
   "execution_count": 293,
   "metadata": {},
   "outputs": [],
   "source": [
    "packed_batches = helpers.prepare_batches(training_input, batch_size = 20, n_states = len(chars), sequence_length = 69)"
   ]
  },
  {
   "cell_type": "markdown",
   "metadata": {},
   "source": [
    "#### Did the method work?"
   ]
  },
  {
   "cell_type": "code",
   "execution_count": 314,
   "metadata": {},
   "outputs": [],
   "source": [
    "lines = []\n",
    "\n",
    "for packed_batch in packed_batches:\n",
    "    \n",
    "    unpacked_sequences, sequence_lengths = pad_packed_sequence(packed_batch)\n",
    "    \n",
    "    for i in range(len(sequence_lengths)):\n",
    "        \n",
    "        length = sequence_lengths[i]\n",
    "        sequence = unpacked_sequences[:,i,:][:length]\n",
    "        \n",
    "        numbers_sequence = [helpers.decode_one_hot(vec) for vec in sequence]\n",
    "        \n",
    "        lines.append([int2char[num] for num in numbers_sequence])"
   ]
  },
  {
   "cell_type": "code",
   "execution_count": 315,
   "metadata": {},
   "outputs": [
    {
     "name": "stdout",
     "output_type": "stream",
     "text": [
      "    interim be but a se'nnight, Time's pace is so hard that it seems \n",
      "\n",
      "and three or four FOLLOWERS accordingly, with PORTIA, NERISSA, and tr\n",
      "\n",
      "Alarum. Excursions. Enter the King, the Prince, Lord John of Lancaste\n",
      "\n",
      "    John Doit of Staffordshire, and black George Barnes, and Francis \n",
      "\n",
      "  Ham. Let me see. [Takes the skull.] Alas, poor Yorick! I knew him, \n",
      "\n",
      "GLOUCESTER offers to put up a bill; WINCHESTER snatches it, and tears\n",
      "\n",
      "Enter King, Queen, Polonius, Ophelia, Rosencrantz, Guildenstern, and \n",
      "\n",
      "  SPEED. Marry, by these special marks: first, you have learn'd, like\n",
      "\n",
      "    never did such deeds in arms as I have done this day. I have paid\n",
      "\n",
      "Trumpets, sennet, and cornets. Enter two VERGERS, with short silver w\n",
      "\n",
      "  PANDARUS. Good boy, tell him I come.                       Exit Boy\n",
      "\n",
      "    it with security. I look'd 'a should have sent me two and twenty \n",
      "\n",
      "    thus much for greeting. Now, my spruce companions, is all ready, \n",
      "\n",
      "  LAUNCE. Out with that too; it was Eve's legacy, and cannot be ta'en\n",
      "\n",
      "    your son was upon his return home, I moved the King my master to \n",
      "\n"
     ]
    }
   ],
   "source": [
    "for i in range(15):\n",
    "    print(''.join(lines[i]) + '\\n')"
   ]
  },
  {
   "cell_type": "code",
   "execution_count": 274,
   "metadata": {},
   "outputs": [
    {
     "data": {
      "text/plain": [
       "''"
      ]
     },
     "execution_count": 274,
     "metadata": {},
     "output_type": "execute_result"
    }
   ],
   "source": [
    "''.join(text_sequences[4])"
   ]
  },
  {
   "cell_type": "code",
   "execution_count": 226,
   "metadata": {},
   "outputs": [
    {
     "data": {
      "text/plain": [
       "' aA  GE  T      EED '"
      ]
     },
     "execution_count": 226,
     "metadata": {},
     "output_type": "execute_result"
    }
   ],
   "source": [
    "\"\".join(text_sequences[0])"
   ]
  },
  {
   "cell_type": "code",
   "execution_count": 211,
   "metadata": {},
   "outputs": [],
   "source": [
    "#padded_batches[0]"
   ]
  },
  {
   "cell_type": "code",
   "execution_count": 187,
   "metadata": {},
   "outputs": [],
   "source": [
    "#comment out lines dealing w/ un-packing\n",
    "\n",
    "\n",
    "#unpacked_batch, sequence_lengths = pad_packed_sequence(input_batches[0], padding_value=0, total_length=69)\n",
    "text_sequences = []\n",
    "for padded_sequence, seq_length in zip(unpacked_batch, sequence_lengths):\n",
    "    \n",
    "    #unpadded sequence\n",
    "    sequence = padded_sequence[:seq_length]\n",
    "    #each element of this is a one-hot vector\n",
    "\n",
    "    numbers_sequence = [decode_one_hot(vec) for vec in sequence]\n",
    "    \n",
    "    text_sequences.append([int2char[num] for num in numbers_sequence])"
   ]
  },
  {
   "cell_type": "code",
   "execution_count": 205,
   "metadata": {},
   "outputs": [
    {
     "data": {
      "text/plain": [
       "'moco  ,ads.huOo.D Ee'"
      ]
     },
     "execution_count": 205,
     "metadata": {},
     "output_type": "execute_result"
    }
   ],
   "source": [
    "''.join(text_sequences[10])"
   ]
  },
  {
   "cell_type": "markdown",
   "metadata": {},
   "source": [
    "#### Training the Model"
   ]
  },
  {
   "cell_type": "code",
   "execution_count": 121,
   "metadata": {},
   "outputs": [],
   "source": [
    "input_size = len(chars)"
   ]
  },
  {
   "cell_type": "code",
   "execution_count": 125,
   "metadata": {},
   "outputs": [],
   "source": [
    "lstm = nn.LSTM(input_size, hidden_size = 100, num_layers=2, dropout=0.5)"
   ]
  },
  {
   "cell_type": "code",
   "execution_count": 126,
   "metadata": {},
   "outputs": [],
   "source": [
    "loss_function = nn.NLLLoss()"
   ]
  },
  {
   "cell_type": "code",
   "execution_count": null,
   "metadata": {},
   "outputs": [],
   "source": [
    "# def init_hidden(self, batch_size):\n",
    "#     hidden = Variable(next(self.parameters()).data.new(self.num_layers, batch_size, self.hidden_size))\n",
    "#     cell =  Variable(next(self.parameters()).data.new(self.num_layers, batch_size, self.hidden_size))\n",
    "#     return (hidden, cell)"
   ]
  },
  {
   "cell_type": "code",
   "execution_count": 133,
   "metadata": {},
   "outputs": [
    {
     "name": "stdout",
     "output_type": "stream",
     "text": [
      "Help on module torch.nn.modules.module in torch.nn.modules:\n",
      "\n",
      "NAME\n",
      "    torch.nn.modules.module\n",
      "\n",
      "CLASSES\n",
      "    builtins.object\n",
      "        Module\n",
      "    \n",
      "    class Module(builtins.object)\n",
      "     |  Base class for all neural network modules.\n",
      "     |  \n",
      "     |  Your models should also subclass this class.\n",
      "     |  \n",
      "     |  Modules can also contain other Modules, allowing to nest them in\n",
      "     |  a tree structure. You can assign the submodules as regular attributes::\n",
      "     |  \n",
      "     |      import torch.nn as nn\n",
      "     |      import torch.nn.functional as F\n",
      "     |  \n",
      "     |      class Model(nn.Module):\n",
      "     |          def __init__(self):\n",
      "     |              super(Model, self).__init__()\n",
      "     |              self.conv1 = nn.Conv2d(1, 20, 5)\n",
      "     |              self.conv2 = nn.Conv2d(20, 20, 5)\n",
      "     |  \n",
      "     |          def forward(self, x):\n",
      "     |             x = F.relu(self.conv1(x))\n",
      "     |             return F.relu(self.conv2(x))\n",
      "     |  \n",
      "     |  Submodules assigned in this way will be registered, and will have their\n",
      "     |  parameters converted too when you call :meth:`to`, etc.\n",
      "     |  \n",
      "     |  Methods defined here:\n",
      "     |  \n",
      "     |  __call__(self, *input, **kwargs)\n",
      "     |      Call self as a function.\n",
      "     |  \n",
      "     |  __delattr__(self, name)\n",
      "     |      Implement delattr(self, name).\n",
      "     |  \n",
      "     |  __dir__(self)\n",
      "     |      Default dir() implementation.\n",
      "     |  \n",
      "     |  __getattr__(self, name)\n",
      "     |  \n",
      "     |  __init__(self)\n",
      "     |      Initialize self.  See help(type(self)) for accurate signature.\n",
      "     |  \n",
      "     |  __repr__(self)\n",
      "     |      Return repr(self).\n",
      "     |  \n",
      "     |  __setattr__(self, name, value)\n",
      "     |      Implement setattr(self, name, value).\n",
      "     |  \n",
      "     |  __setstate__(self, state)\n",
      "     |  \n",
      "     |  add_module(self, name, module)\n",
      "     |      Adds a child module to the current module.\n",
      "     |      \n",
      "     |      The module can be accessed as an attribute using the given name.\n",
      "     |      \n",
      "     |      Args:\n",
      "     |          name (string): name of the child module. The child module can be\n",
      "     |              accessed from this module using the given name\n",
      "     |          module (Module): child module to be added to the module.\n",
      "     |  \n",
      "     |  apply(self, fn)\n",
      "     |      Applies ``fn`` recursively to every submodule (as returned by ``.children()``)\n",
      "     |      as well as self. Typical use includes initializing the parameters of a model\n",
      "     |      (see also :ref:`torch-nn-init`).\n",
      "     |      \n",
      "     |      Args:\n",
      "     |          fn (:class:`Module` -> None): function to be applied to each submodule\n",
      "     |      \n",
      "     |      Returns:\n",
      "     |          Module: self\n",
      "     |      \n",
      "     |      Example::\n",
      "     |      \n",
      "     |          >>> def init_weights(m):\n",
      "     |          >>>     print(m)\n",
      "     |          >>>     if type(m) == nn.Linear:\n",
      "     |          >>>         m.weight.data.fill_(1.0)\n",
      "     |          >>>         print(m.weight)\n",
      "     |          >>> net = nn.Sequential(nn.Linear(2, 2), nn.Linear(2, 2))\n",
      "     |          >>> net.apply(init_weights)\n",
      "     |          Linear(in_features=2, out_features=2, bias=True)\n",
      "     |          Parameter containing:\n",
      "     |          tensor([[ 1.,  1.],\n",
      "     |                  [ 1.,  1.]])\n",
      "     |          Linear(in_features=2, out_features=2, bias=True)\n",
      "     |          Parameter containing:\n",
      "     |          tensor([[ 1.,  1.],\n",
      "     |                  [ 1.,  1.]])\n",
      "     |          Sequential(\n",
      "     |            (0): Linear(in_features=2, out_features=2, bias=True)\n",
      "     |            (1): Linear(in_features=2, out_features=2, bias=True)\n",
      "     |          )\n",
      "     |          Sequential(\n",
      "     |            (0): Linear(in_features=2, out_features=2, bias=True)\n",
      "     |            (1): Linear(in_features=2, out_features=2, bias=True)\n",
      "     |          )\n",
      "     |  \n",
      "     |  buffers(self, recurse=True)\n",
      "     |      Returns an iterator over module buffers.\n",
      "     |      \n",
      "     |      Args:\n",
      "     |          recurse (bool): if True, then yields buffers of this module\n",
      "     |              and all submodules. Otherwise, yields only buffers that\n",
      "     |              are direct members of this module.\n",
      "     |      \n",
      "     |      Yields:\n",
      "     |          torch.Tensor: module buffer\n",
      "     |      \n",
      "     |      Example::\n",
      "     |      \n",
      "     |          >>> for buf in model.buffers():\n",
      "     |          >>>     print(type(buf.data), buf.size())\n",
      "     |          <class 'torch.FloatTensor'> (20L,)\n",
      "     |          <class 'torch.FloatTensor'> (20L, 1L, 5L, 5L)\n",
      "     |  \n",
      "     |  children(self)\n",
      "     |      Returns an iterator over immediate children modules.\n",
      "     |      \n",
      "     |      Yields:\n",
      "     |          Module: a child module\n",
      "     |  \n",
      "     |  cpu(self)\n",
      "     |      Moves all model parameters and buffers to the CPU.\n",
      "     |      \n",
      "     |      Returns:\n",
      "     |          Module: self\n",
      "     |  \n",
      "     |  cuda(self, device=None)\n",
      "     |      Moves all model parameters and buffers to the GPU.\n",
      "     |      \n",
      "     |      This also makes associated parameters and buffers different objects. So\n",
      "     |      it should be called before constructing optimizer if the module will\n",
      "     |      live on GPU while being optimized.\n",
      "     |      \n",
      "     |      Arguments:\n",
      "     |          device (int, optional): if specified, all parameters will be\n",
      "     |              copied to that device\n",
      "     |      \n",
      "     |      Returns:\n",
      "     |          Module: self\n",
      "     |  \n",
      "     |  double(self)\n",
      "     |      Casts all floating point parameters and buffers to ``double`` datatype.\n",
      "     |      \n",
      "     |      Returns:\n",
      "     |          Module: self\n",
      "     |  \n",
      "     |  eval(self)\n",
      "     |      Sets the module in evaluation mode.\n",
      "     |      \n",
      "     |      This has any effect only on certain modules. See documentations of\n",
      "     |      particular modules for details of their behaviors in training/evaluation\n",
      "     |      mode, if they are affected, e.g. :class:`Dropout`, :class:`BatchNorm`,\n",
      "     |      etc.\n",
      "     |  \n",
      "     |  extra_repr(self)\n",
      "     |      Set the extra representation of the module\n",
      "     |      \n",
      "     |      To print customized extra information, you should reimplement\n",
      "     |      this method in your own modules. Both single-line and multi-line\n",
      "     |      strings are acceptable.\n",
      "     |  \n",
      "     |  float(self)\n",
      "     |      Casts all floating point parameters and buffers to float datatype.\n",
      "     |      \n",
      "     |      Returns:\n",
      "     |          Module: self\n",
      "     |  \n",
      "     |  forward(self, *input)\n",
      "     |      Defines the computation performed at every call.\n",
      "     |      \n",
      "     |      Should be overridden by all subclasses.\n",
      "     |      \n",
      "     |      .. note::\n",
      "     |          Although the recipe for forward pass needs to be defined within\n",
      "     |          this function, one should call the :class:`Module` instance afterwards\n",
      "     |          instead of this since the former takes care of running the\n",
      "     |          registered hooks while the latter silently ignores them.\n",
      "     |  \n",
      "     |  half(self)\n",
      "     |      Casts all floating point parameters and buffers to ``half`` datatype.\n",
      "     |      \n",
      "     |      Returns:\n",
      "     |          Module: self\n",
      "     |  \n",
      "     |  load_state_dict(self, state_dict, strict=True)\n",
      "     |      Copies parameters and buffers from :attr:`state_dict` into\n",
      "     |      this module and its descendants. If :attr:`strict` is ``True``, then\n",
      "     |      the keys of :attr:`state_dict` must exactly match the keys returned\n",
      "     |      by this module's :meth:`~torch.nn.Module.state_dict` function.\n",
      "     |      \n",
      "     |      Arguments:\n",
      "     |          state_dict (dict): a dict containing parameters and\n",
      "     |              persistent buffers.\n",
      "     |          strict (bool, optional): whether to strictly enforce that the keys\n",
      "     |              in :attr:`state_dict` match the keys returned by this module's\n",
      "     |              :meth:`~torch.nn.Module.state_dict` function. Default: ``True``\n",
      "     |      \n",
      "     |      Returns:\n",
      "     |          ``NamedTuple`` with ``missing_keys`` and ``unexpected_keys`` fields:\n",
      "     |              * **missing_keys** is a list of str containing the missing keys\n",
      "     |              * **unexpected_keys** is a list of str containing the unexpected keys\n",
      "     |  \n",
      "     |  modules(self)\n",
      "     |      Returns an iterator over all modules in the network.\n",
      "     |      \n",
      "     |      Yields:\n",
      "     |          Module: a module in the network\n",
      "     |      \n",
      "     |      Note:\n",
      "     |          Duplicate modules are returned only once. In the following\n",
      "     |          example, ``l`` will be returned only once.\n",
      "     |      \n",
      "     |      Example::\n",
      "     |      \n",
      "     |          >>> l = nn.Linear(2, 2)\n",
      "     |          >>> net = nn.Sequential(l, l)\n",
      "     |          >>> for idx, m in enumerate(net.modules()):\n",
      "     |                  print(idx, '->', m)\n",
      "     |      \n",
      "     |          0 -> Sequential(\n",
      "     |            (0): Linear(in_features=2, out_features=2, bias=True)\n",
      "     |            (1): Linear(in_features=2, out_features=2, bias=True)\n",
      "     |          )\n",
      "     |          1 -> Linear(in_features=2, out_features=2, bias=True)\n",
      "     |  \n",
      "     |  named_buffers(self, prefix='', recurse=True)\n",
      "     |      Returns an iterator over module buffers, yielding both the\n",
      "     |      name of the buffer as well as the buffer itself.\n",
      "     |      \n",
      "     |      Args:\n",
      "     |          prefix (str): prefix to prepend to all buffer names.\n",
      "     |          recurse (bool): if True, then yields buffers of this module\n",
      "     |              and all submodules. Otherwise, yields only buffers that\n",
      "     |              are direct members of this module.\n",
      "     |      \n",
      "     |      Yields:\n",
      "     |          (string, torch.Tensor): Tuple containing the name and buffer\n",
      "     |      \n",
      "     |      Example::\n",
      "     |      \n",
      "     |          >>> for name, buf in self.named_buffers():\n",
      "     |          >>>    if name in ['running_var']:\n",
      "     |          >>>        print(buf.size())\n",
      "     |  \n",
      "     |  named_children(self)\n",
      "     |      Returns an iterator over immediate children modules, yielding both\n",
      "     |      the name of the module as well as the module itself.\n",
      "     |      \n",
      "     |      Yields:\n",
      "     |          (string, Module): Tuple containing a name and child module\n",
      "     |      \n",
      "     |      Example::\n",
      "     |      \n",
      "     |          >>> for name, module in model.named_children():\n",
      "     |          >>>     if name in ['conv4', 'conv5']:\n",
      "     |          >>>         print(module)\n",
      "     |  \n",
      "     |  named_modules(self, memo=None, prefix='')\n",
      "     |      Returns an iterator over all modules in the network, yielding\n",
      "     |      both the name of the module as well as the module itself.\n",
      "     |      \n",
      "     |      Yields:\n",
      "     |          (string, Module): Tuple of name and module\n",
      "     |      \n",
      "     |      Note:\n",
      "     |          Duplicate modules are returned only once. In the following\n",
      "     |          example, ``l`` will be returned only once.\n",
      "     |      \n",
      "     |      Example::\n",
      "     |      \n",
      "     |          >>> l = nn.Linear(2, 2)\n",
      "     |          >>> net = nn.Sequential(l, l)\n",
      "     |          >>> for idx, m in enumerate(net.named_modules()):\n",
      "     |                  print(idx, '->', m)\n",
      "     |      \n",
      "     |          0 -> ('', Sequential(\n",
      "     |            (0): Linear(in_features=2, out_features=2, bias=True)\n",
      "     |            (1): Linear(in_features=2, out_features=2, bias=True)\n",
      "     |          ))\n",
      "     |          1 -> ('0', Linear(in_features=2, out_features=2, bias=True))\n",
      "     |  \n",
      "     |  named_parameters(self, prefix='', recurse=True)\n",
      "     |      Returns an iterator over module parameters, yielding both the\n",
      "     |      name of the parameter as well as the parameter itself.\n",
      "     |      \n",
      "     |      Args:\n",
      "     |          prefix (str): prefix to prepend to all parameter names.\n",
      "     |          recurse (bool): if True, then yields parameters of this module\n",
      "     |              and all submodules. Otherwise, yields only parameters that\n",
      "     |              are direct members of this module.\n",
      "     |      \n",
      "     |      Yields:\n",
      "     |          (string, Parameter): Tuple containing the name and parameter\n",
      "     |      \n",
      "     |      Example::\n",
      "     |      \n",
      "     |          >>> for name, param in self.named_parameters():\n",
      "     |          >>>    if name in ['bias']:\n",
      "     |          >>>        print(param.size())\n",
      "     |  \n",
      "     |  parameters(self, recurse=True)\n",
      "     |      Returns an iterator over module parameters.\n",
      "     |      \n",
      "     |      This is typically passed to an optimizer.\n",
      "     |      \n",
      "     |      Args:\n",
      "     |          recurse (bool): if True, then yields parameters of this module\n",
      "     |              and all submodules. Otherwise, yields only parameters that\n",
      "     |              are direct members of this module.\n",
      "     |      \n",
      "     |      Yields:\n",
      "     |          Parameter: module parameter\n",
      "     |      \n",
      "     |      Example::\n",
      "     |      \n",
      "     |          >>> for param in model.parameters():\n",
      "     |          >>>     print(type(param.data), param.size())\n",
      "     |          <class 'torch.FloatTensor'> (20L,)\n",
      "     |          <class 'torch.FloatTensor'> (20L, 1L, 5L, 5L)\n",
      "     |  \n",
      "     |  register_backward_hook(self, hook)\n",
      "     |      Registers a backward hook on the module.\n",
      "     |      \n",
      "     |      The hook will be called every time the gradients with respect to module\n",
      "     |      inputs are computed. The hook should have the following signature::\n",
      "     |      \n",
      "     |          hook(module, grad_input, grad_output) -> Tensor or None\n",
      "     |      \n",
      "     |      The :attr:`grad_input` and :attr:`grad_output` may be tuples if the\n",
      "     |      module has multiple inputs or outputs. The hook should not modify its\n",
      "     |      arguments, but it can optionally return a new gradient with respect to\n",
      "     |      input that will be used in place of :attr:`grad_input` in subsequent\n",
      "     |      computations.\n",
      "     |      \n",
      "     |      Returns:\n",
      "     |          :class:`torch.utils.hooks.RemovableHandle`:\n",
      "     |              a handle that can be used to remove the added hook by calling\n",
      "     |              ``handle.remove()``\n",
      "     |      \n",
      "     |      .. warning ::\n",
      "     |      \n",
      "     |          The current implementation will not have the presented behavior\n",
      "     |          for complex :class:`Module` that perform many operations.\n",
      "     |          In some failure cases, :attr:`grad_input` and :attr:`grad_output` will only\n",
      "     |          contain the gradients for a subset of the inputs and outputs.\n",
      "     |          For such :class:`Module`, you should use :func:`torch.Tensor.register_hook`\n",
      "     |          directly on a specific input or output to get the required gradients.\n",
      "     |  \n",
      "     |  register_buffer(self, name, tensor)\n",
      "     |      Adds a persistent buffer to the module.\n",
      "     |      \n",
      "     |      This is typically used to register a buffer that should not to be\n",
      "     |      considered a model parameter. For example, BatchNorm's ``running_mean``\n",
      "     |      is not a parameter, but is part of the persistent state.\n",
      "     |      \n",
      "     |      Buffers can be accessed as attributes using given names.\n",
      "     |      \n",
      "     |      Args:\n",
      "     |          name (string): name of the buffer. The buffer can be accessed\n",
      "     |              from this module using the given name\n",
      "     |          tensor (Tensor): buffer to be registered.\n",
      "     |      \n",
      "     |      Example::\n",
      "     |      \n",
      "     |          >>> self.register_buffer('running_mean', torch.zeros(num_features))\n",
      "     |  \n",
      "     |  register_forward_hook(self, hook)\n",
      "     |      Registers a forward hook on the module.\n",
      "     |      \n",
      "     |      The hook will be called every time after :func:`forward` has computed an output.\n",
      "     |      It should have the following signature::\n",
      "     |      \n",
      "     |          hook(module, input, output) -> None\n",
      "     |      \n",
      "     |      The hook should not modify the input or output.\n",
      "     |      \n",
      "     |      Returns:\n",
      "     |          :class:`torch.utils.hooks.RemovableHandle`:\n",
      "     |              a handle that can be used to remove the added hook by calling\n",
      "     |              ``handle.remove()``\n",
      "     |  \n",
      "     |  register_forward_pre_hook(self, hook)\n",
      "     |      Registers a forward pre-hook on the module.\n",
      "     |      \n",
      "     |      The hook will be called every time before :func:`forward` is invoked.\n",
      "     |      It should have the following signature::\n",
      "     |      \n",
      "     |          hook(module, input) -> None\n",
      "     |      \n",
      "     |      The hook should not modify the input.\n",
      "     |      \n",
      "     |      Returns:\n",
      "     |          :class:`torch.utils.hooks.RemovableHandle`:\n",
      "     |              a handle that can be used to remove the added hook by calling\n",
      "     |              ``handle.remove()``\n",
      "     |  \n",
      "     |  register_parameter(self, name, param)\n",
      "     |      Adds a parameter to the module.\n",
      "     |      \n",
      "     |      The parameter can be accessed as an attribute using given name.\n",
      "     |      \n",
      "     |      Args:\n",
      "     |          name (string): name of the parameter. The parameter can be accessed\n",
      "     |              from this module using the given name\n",
      "     |          param (Parameter): parameter to be added to the module.\n",
      "     |  \n",
      "     |  share_memory(self)\n",
      "     |  \n",
      "     |  state_dict(self, destination=None, prefix='', keep_vars=False)\n",
      "     |      Returns a dictionary containing a whole state of the module.\n",
      "     |      \n",
      "     |      Both parameters and persistent buffers (e.g. running averages) are\n",
      "     |      included. Keys are corresponding parameter and buffer names.\n",
      "     |      \n",
      "     |      Returns:\n",
      "     |          dict:\n",
      "     |              a dictionary containing a whole state of the module\n",
      "     |      \n",
      "     |      Example::\n",
      "     |      \n",
      "     |          >>> module.state_dict().keys()\n",
      "     |          ['bias', 'weight']\n",
      "     |  \n",
      "     |  to(self, *args, **kwargs)\n",
      "     |      Moves and/or casts the parameters and buffers.\n",
      "     |      \n",
      "     |      This can be called as\n",
      "     |      \n",
      "     |      .. function:: to(device=None, dtype=None, non_blocking=False)\n",
      "     |      \n",
      "     |      .. function:: to(dtype, non_blocking=False)\n",
      "     |      \n",
      "     |      .. function:: to(tensor, non_blocking=False)\n",
      "     |      \n",
      "     |      Its signature is similar to :meth:`torch.Tensor.to`, but only accepts\n",
      "     |      floating point desired :attr:`dtype` s. In addition, this method will\n",
      "     |      only cast the floating point parameters and buffers to :attr:`dtype`\n",
      "     |      (if given). The integral parameters and buffers will be moved\n",
      "     |      :attr:`device`, if that is given, but with dtypes unchanged. When\n",
      "     |      :attr:`non_blocking` is set, it tries to convert/move asynchronously\n",
      "     |      with respect to the host if possible, e.g., moving CPU Tensors with\n",
      "     |      pinned memory to CUDA devices.\n",
      "     |      \n",
      "     |      See below for examples.\n",
      "     |      \n",
      "     |      .. note::\n",
      "     |          This method modifies the module in-place.\n",
      "     |      \n",
      "     |      Args:\n",
      "     |          device (:class:`torch.device`): the desired device of the parameters\n",
      "     |              and buffers in this module\n",
      "     |          dtype (:class:`torch.dtype`): the desired floating point type of\n",
      "     |              the floating point parameters and buffers in this module\n",
      "     |          tensor (torch.Tensor): Tensor whose dtype and device are the desired\n",
      "     |              dtype and device for all parameters and buffers in this module\n",
      "     |      \n",
      "     |      Returns:\n",
      "     |          Module: self\n",
      "     |      \n",
      "     |      Example::\n",
      "     |      \n",
      "     |          >>> linear = nn.Linear(2, 2)\n",
      "     |          >>> linear.weight\n",
      "     |          Parameter containing:\n",
      "     |          tensor([[ 0.1913, -0.3420],\n",
      "     |                  [-0.5113, -0.2325]])\n",
      "     |          >>> linear.to(torch.double)\n",
      "     |          Linear(in_features=2, out_features=2, bias=True)\n",
      "     |          >>> linear.weight\n",
      "     |          Parameter containing:\n",
      "     |          tensor([[ 0.1913, -0.3420],\n",
      "     |                  [-0.5113, -0.2325]], dtype=torch.float64)\n",
      "     |          >>> gpu1 = torch.device(\"cuda:1\")\n",
      "     |          >>> linear.to(gpu1, dtype=torch.half, non_blocking=True)\n",
      "     |          Linear(in_features=2, out_features=2, bias=True)\n",
      "     |          >>> linear.weight\n",
      "     |          Parameter containing:\n",
      "     |          tensor([[ 0.1914, -0.3420],\n",
      "     |                  [-0.5112, -0.2324]], dtype=torch.float16, device='cuda:1')\n",
      "     |          >>> cpu = torch.device(\"cpu\")\n",
      "     |          >>> linear.to(cpu)\n",
      "     |          Linear(in_features=2, out_features=2, bias=True)\n",
      "     |          >>> linear.weight\n",
      "     |          Parameter containing:\n",
      "     |          tensor([[ 0.1914, -0.3420],\n",
      "     |                  [-0.5112, -0.2324]], dtype=torch.float16)\n",
      "     |  \n",
      "     |  train(self, mode=True)\n",
      "     |      Sets the module in training mode.\n",
      "     |      \n",
      "     |      This has any effect only on certain modules. See documentations of\n",
      "     |      particular modules for details of their behaviors in training/evaluation\n",
      "     |      mode, if they are affected, e.g. :class:`Dropout`, :class:`BatchNorm`,\n",
      "     |      etc.\n",
      "     |      \n",
      "     |      Returns:\n",
      "     |          Module: self\n",
      "     |  \n",
      "     |  type(self, dst_type)\n",
      "     |      Casts all parameters and buffers to :attr:`dst_type`.\n",
      "     |      \n",
      "     |      Arguments:\n",
      "     |          dst_type (type or string): the desired type\n",
      "     |      \n",
      "     |      Returns:\n",
      "     |          Module: self\n",
      "     |  \n",
      "     |  zero_grad(self)\n",
      "     |      Sets gradients of all model parameters to zero.\n",
      "     |  \n",
      "     |  ----------------------------------------------------------------------\n",
      "     |  Data descriptors defined here:\n",
      "     |  \n",
      "     |  __dict__\n",
      "     |      dictionary for instance variables (if defined)\n",
      "     |  \n",
      "     |  __weakref__\n",
      "     |      list of weak references to the object (if defined)\n",
      "     |  \n",
      "     |  ----------------------------------------------------------------------\n",
      "     |  Data and other attributes defined here:\n",
      "     |  \n",
      "     |  dump_patches = False\n",
      "\n",
      "DATA\n",
      "    thnn_backend = <torch.nn.backends.thnn.THNNFunctionBackend object>\n",
      "\n",
      "FILE\n",
      "    /Users/nikku/miniconda3/envs/pytorch/lib/python3.7/site-packages/torch/nn/modules/module.py\n",
      "\n",
      "\n"
     ]
    }
   ],
   "source": [
    "help(nn.modules.module)"
   ]
  },
  {
   "cell_type": "code",
   "execution_count": 129,
   "metadata": {},
   "outputs": [
    {
     "name": "stdout",
     "output_type": "stream",
     "text": [
      "(PackedSequence(data=tensor([[ 0.0189,  0.0024, -0.0323,  ..., -0.0147,  0.0388,  0.0309],\n",
      "        [ 0.0215,  0.0096, -0.0329,  ..., -0.0156,  0.0337,  0.0302],\n",
      "        [ 0.0214,  0.0103, -0.0301,  ..., -0.0076,  0.0365,  0.0240],\n",
      "        ...,\n",
      "        [ 0.0177,  0.0146, -0.0666,  ..., -0.0225,  0.0607,  0.0344],\n",
      "        [ 0.0071, -0.0038, -0.0874,  ..., -0.0457,  0.0558,  0.0341],\n",
      "        [ 0.0092,  0.0054, -0.0773,  ..., -0.0455,  0.0440,  0.0410]]), batch_sizes=tensor([20, 20, 20, 20, 20, 20, 20, 20, 20, 20, 20, 20, 20, 20, 20, 20, 20, 20,\n",
      "        20, 20, 20, 20, 20, 20, 20, 20, 20, 20, 20, 20, 20, 20, 20, 20, 20, 20,\n",
      "        20, 20, 20, 20, 20, 20, 20, 20, 20, 20, 20, 20, 20, 20, 20, 20, 20, 20,\n",
      "        20, 20, 20, 20, 20, 20, 20, 20, 20, 20, 20, 20, 20, 20, 20]), sorted_indices=None, unsorted_indices=None), (tensor([[[ 2.2851e-02,  3.5399e-02,  1.4999e-01,  ...,  1.3775e-02,\n",
      "          -3.7720e-02,  3.6586e-02],\n",
      "         [ 1.0992e-02,  2.8352e-02,  8.5252e-02,  ..., -9.9754e-04,\n",
      "          -3.1821e-02,  8.0983e-02],\n",
      "         [ 1.0574e-03,  1.4301e-02,  1.1487e-01,  ...,  5.5872e-02,\n",
      "          -6.4567e-02,  5.0020e-02],\n",
      "         ...,\n",
      "         [ 4.1322e-02, -8.4818e-05,  1.0135e-01,  ...,  4.4086e-02,\n",
      "          -4.4074e-02,  1.7188e-02],\n",
      "         [ 3.3003e-02,  3.5672e-02,  1.4293e-01,  ...,  1.3702e-02,\n",
      "          -4.9616e-02,  4.2785e-02],\n",
      "         [ 3.4509e-02,  2.0397e-02,  1.2566e-01,  ..., -7.9128e-04,\n",
      "          -5.1673e-02,  5.4009e-02]],\n",
      "\n",
      "        [[ 1.2819e-02,  9.5163e-03, -7.6665e-02,  ..., -2.8980e-02,\n",
      "           5.9627e-02,  3.5980e-02],\n",
      "         [ 6.3656e-03,  6.5463e-03, -5.2534e-02,  ..., -1.9135e-02,\n",
      "           5.3428e-02,  3.4207e-02],\n",
      "         [ 1.0061e-02,  2.3715e-02, -6.9000e-02,  ..., -2.8153e-02,\n",
      "           6.2132e-02,  2.7754e-02],\n",
      "         ...,\n",
      "         [ 1.7657e-02,  1.4631e-02, -6.6559e-02,  ..., -2.2488e-02,\n",
      "           6.0715e-02,  3.4446e-02],\n",
      "         [ 7.0647e-03, -3.8235e-03, -8.7446e-02,  ..., -4.5730e-02,\n",
      "           5.5790e-02,  3.4076e-02],\n",
      "         [ 9.2267e-03,  5.4146e-03, -7.7294e-02,  ..., -4.5493e-02,\n",
      "           4.4009e-02,  4.0986e-02]]]), tensor([[[ 4.4320e-02,  8.1058e-02,  2.9504e-01,  ...,  2.5456e-02,\n",
      "          -7.2312e-02,  7.5884e-02],\n",
      "         [ 2.1426e-02,  6.3730e-02,  1.6767e-01,  ..., -1.8164e-03,\n",
      "          -6.6117e-02,  1.6308e-01],\n",
      "         [ 2.0797e-03,  3.0408e-02,  2.3163e-01,  ...,  1.0790e-01,\n",
      "          -1.2424e-01,  1.0952e-01],\n",
      "         ...,\n",
      "         [ 8.8163e-02, -1.8471e-04,  2.0886e-01,  ...,  8.0439e-02,\n",
      "          -9.1420e-02,  3.7099e-02],\n",
      "         [ 6.4383e-02,  8.1817e-02,  2.8034e-01,  ...,  2.5316e-02,\n",
      "          -9.5028e-02,  8.9325e-02],\n",
      "         [ 6.7961e-02,  4.6796e-02,  2.4642e-01,  ..., -1.4721e-03,\n",
      "          -9.8992e-02,  1.1206e-01]],\n",
      "\n",
      "        [[ 2.5578e-02,  1.9062e-02, -1.4807e-01,  ..., -5.4084e-02,\n",
      "           1.2504e-01,  7.2263e-02],\n",
      "         [ 1.2732e-02,  1.3454e-02, -9.9288e-02,  ..., -3.6761e-02,\n",
      "           1.1164e-01,  6.8602e-02],\n",
      "         [ 1.9621e-02,  4.9307e-02, -1.3295e-01,  ..., -5.2592e-02,\n",
      "           1.2945e-01,  5.6627e-02],\n",
      "         ...,\n",
      "         [ 3.5344e-02,  2.9546e-02, -1.2743e-01,  ..., -4.3294e-02,\n",
      "           1.2763e-01,  7.0003e-02],\n",
      "         [ 1.4196e-02, -7.7798e-03, -1.6688e-01,  ..., -8.6390e-02,\n",
      "           1.1664e-01,  6.8908e-02],\n",
      "         [ 1.8797e-02,  1.1042e-02, -1.4784e-01,  ..., -8.7169e-02,\n",
      "           9.2193e-02,  8.1220e-02]]])))\n"
     ]
    }
   ],
   "source": [
    "with torch.no_grad():\n",
    "    scores = lstm(input_batches[0])\n",
    "    print(scores)"
   ]
  }
 ],
 "metadata": {
  "kernelspec": {
   "display_name": "Python 3",
   "language": "python",
   "name": "python3"
  },
  "language_info": {
   "codemirror_mode": {
    "name": "ipython",
    "version": 3
   },
   "file_extension": ".py",
   "mimetype": "text/x-python",
   "name": "python",
   "nbconvert_exporter": "python",
   "pygments_lexer": "ipython3",
   "version": "3.7.3"
  }
 },
 "nbformat": 4,
 "nbformat_minor": 2
}
